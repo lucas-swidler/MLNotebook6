{
  "nbformat": 4,
  "nbformat_minor": 0,
  "metadata": {
    "colab": {
      "name": "Swidler - Notebook 6.ipynb",
      "provenance": []
    },
    "kernelspec": {
      "name": "python3",
      "display_name": "Python 3"
    },
    "language_info": {
      "name": "python"
    }
  },
  "cells": [
    {
      "cell_type": "markdown",
      "metadata": {
        "id": "p5qLjSekKoZF"
      },
      "source": [
        "# Notebook #6\n",
        "Name: Lucas Swidler\n",
        "Date: 11/16/2021\n",
        "\n",
        "##Problem Description#\n",
        "###Hints/Tips Tricks\n",
        "\n",
        "\n",
        "*   Don't forget to enable GPUs under  'Edit', 'Notebook Settings', 'Accerlate Hardware', 'GPU'.\n",
        "*   Make sure you unzip the data and put it in your Drive.\n",
        "\n"
      ]
    },
    {
      "cell_type": "markdown",
      "metadata": {
        "id": "-XeFrPKsMek4"
      },
      "source": [
        "*The problem here is that we need to create a CNN to help identify which patients have pneumonia based on x-ray images of their chests. Convolutional neural networks are good at classifying images based on certain patterns so this should be the best method to solve this problem.*"
      ]
    },
    {
      "cell_type": "code",
      "metadata": {
        "colab": {
          "base_uri": "https://localhost:8080/"
        },
        "id": "dZOVr0cwKi2F",
        "outputId": "c546a5fa-b327-4d8d-e969-b7783fe6a2be"
      },
      "source": [
        "import keras\n",
        "import tensorflow\n",
        "import sys\n",
        "from matplotlib import pyplot\n",
        "from keras.models import Sequential\n",
        "from keras.layers import Conv2D\n",
        "from keras.layers import MaxPooling2D\n",
        "from keras.layers import Dense\n",
        "from keras.layers import Flatten\n",
        "from tensorflow.keras.optimizers import SGD\n",
        "from keras.preprocessing.image import ImageDataGenerator\n",
        "import sys\n",
        "## Connect to Drive\n",
        "from google.colab import drive\n",
        "import pandas\n",
        "drive.mount('/content/drive')\n",
        "\n",
        "## Image dimensions\n",
        "img_width = 200\n",
        "img_height = 200\n",
        "\n",
        "## Directories for testing and training data\n",
        "train_data_dir = '/content/drive/MyDrive/CS167/chest_xray/train' \n",
        "test_data_dir = '/content/drive/MyDrive/CS167/chest_xray/test'\n",
        "\n",
        "## To feed the training images to the neural network in batches of 32 images at a time\n",
        "batch_size = 32\n",
        "\n",
        "## Rescale pixel values from [0, 255] to between 0 and 1\n",
        "datagen = ImageDataGenerator(rescale=1.0/255.0)\n",
        "\n",
        "## Look for training and testing data and figure out the class of each example based on subfolder\n",
        "train_data = datagen.flow_from_directory(\n",
        "        train_data_dir,\n",
        "        target_size=(img_width, img_height),\n",
        "        batch_size=batch_size,\n",
        "        class_mode='binary')\n",
        "\n",
        "test_data = datagen.flow_from_directory(\n",
        "        test_data_dir,\n",
        "        target_size=(img_width, img_height),\n",
        "        batch_size=batch_size,\n",
        "        class_mode='binary')"
      ],
      "execution_count": null,
      "outputs": [
        {
          "output_type": "stream",
          "name": "stdout",
          "text": [
            "Drive already mounted at /content/drive; to attempt to forcibly remount, call drive.mount(\"/content/drive\", force_remount=True).\n",
            "Found 5216 images belonging to 2 classes.\n",
            "Found 624 images belonging to 2 classes.\n"
          ]
        }
      ]
    },
    {
      "cell_type": "code",
      "metadata": {
        "id": "Ih0ke7uQRG_K"
      },
      "source": [
        "# Data is already prepped, so the model can be simply set up and run\n",
        "# Baseline CNN\n",
        "base_model = Sequential()\n",
        "base_model.add(Conv2D(32, (3, 3), activation = 'relu', input_shape=(img_width, img_height, 3)))\n",
        "base_model.add(MaxPooling2D(pool_size=(2, 2)))\n",
        "base_model.add(Conv2D(32, (3, 3), activation = 'relu'))\n",
        "base_model.add(MaxPooling2D(pool_size=(2, 2)))\n",
        "\n",
        "base_model.add(Flatten()) \n",
        "base_model.add(Dense(32)) \n",
        "base_model.add(Dense(1,activation='sigmoid'))\n",
        "\n",
        "# need to compile the model before you can use it\n",
        "opt = SGD(learning_rate=0.001, momentum=0.9)\n",
        "base_model.compile(optimizer=opt, loss='binary_crossentropy', metrics=['accuracy'])"
      ],
      "execution_count": null,
      "outputs": []
    },
    {
      "cell_type": "code",
      "metadata": {
        "colab": {
          "base_uri": "https://localhost:8080/"
        },
        "id": "Oc80u07eTspK",
        "outputId": "fd499a93-e0d4-4207-c178-545281c4bc3c"
      },
      "source": [
        "# Run the baseline CNN\n",
        "training_results = base_model.fit(\n",
        "        train_data, #training set\n",
        "        steps_per_epoch = len(train_data), \n",
        "        epochs = 10, #number of epochs \n",
        "        validation_data = test_data, #testing set\n",
        "        validation_steps = len(test_data)\n",
        "        )"
      ],
      "execution_count": null,
      "outputs": [
        {
          "output_type": "stream",
          "name": "stdout",
          "text": [
            "Epoch 1/10\n",
            "163/163 [==============================] - 223s 1s/step - loss: 0.1093 - accuracy: 0.9572 - val_loss: 1.3187 - val_accuracy: 0.6843\n",
            "Epoch 2/10\n",
            "163/163 [==============================] - 232s 1s/step - loss: 0.1039 - accuracy: 0.9590 - val_loss: 0.8732 - val_accuracy: 0.7436\n",
            "Epoch 3/10\n",
            "163/163 [==============================] - 240s 1s/step - loss: 0.0989 - accuracy: 0.9645 - val_loss: 0.8233 - val_accuracy: 0.7532\n",
            "Epoch 4/10\n",
            "163/163 [==============================] - 230s 1s/step - loss: 0.1001 - accuracy: 0.9643 - val_loss: 0.7993 - val_accuracy: 0.7484\n",
            "Epoch 5/10\n",
            "163/163 [==============================] - 224s 1s/step - loss: 0.0920 - accuracy: 0.9659 - val_loss: 0.9692 - val_accuracy: 0.7388\n",
            "Epoch 6/10\n",
            "163/163 [==============================] - 220s 1s/step - loss: 0.0925 - accuracy: 0.9657 - val_loss: 0.9047 - val_accuracy: 0.7388\n",
            "Epoch 7/10\n",
            "163/163 [==============================] - 228s 1s/step - loss: 0.0834 - accuracy: 0.9705 - val_loss: 1.1172 - val_accuracy: 0.7212\n",
            "Epoch 8/10\n",
            "163/163 [==============================] - 228s 1s/step - loss: 0.0805 - accuracy: 0.9695 - val_loss: 0.7816 - val_accuracy: 0.7708\n",
            "Epoch 9/10\n",
            "163/163 [==============================] - 223s 1s/step - loss: 0.0804 - accuracy: 0.9686 - val_loss: 0.7327 - val_accuracy: 0.7869\n",
            "Epoch 10/10\n",
            "163/163 [==============================] - 235s 1s/step - loss: 0.0841 - accuracy: 0.9688 - val_loss: 0.9296 - val_accuracy: 0.7228\n"
          ]
        }
      ]
    },
    {
      "cell_type": "code",
      "metadata": {
        "colab": {
          "base_uri": "https://localhost:8080/",
          "height": 295
        },
        "id": "yh-jpk7TrQiN",
        "outputId": "20c87935-93d4-4397-816e-4fbefc869546"
      },
      "source": [
        "# Graph the results\n",
        "import matplotlib.pyplot as plt\n",
        "%matplotlib inline\n",
        "plt.plot(training_results.history['accuracy'])\n",
        "plt.plot(training_results.history['val_accuracy'])\n",
        "plt.title('model accuracy')\n",
        "plt.ylabel('accuracy')\n",
        "plt.xlabel('epoch')\n",
        "plt.legend(['train', 'test'], loc='upper left')\n",
        "plt.show()"
      ],
      "execution_count": null,
      "outputs": [
        {
          "output_type": "display_data",
          "data": {
            "image/png": "[encoded data removed]",
            "text/plain": [
              "<Figure size 432x288 with 1 Axes>"
            ]
          },
          "metadata": {
            "needs_background": "light"
          }
        }
      ]
    },
    {
      "cell_type": "code",
      "metadata": {
        "id": "trHuKJbPUGIS"
      },
      "source": [
        "# Tuned CNN\n",
        "tuned_model = Sequential()\n",
        "tuned_model.add(Conv2D(32, (3, 3), activation = 'relu', input_shape=(img_width, img_height, 3)))\n",
        "tuned_model.add(MaxPooling2D(pool_size=(2, 2)))\n",
        "tuned_model.add(Conv2D(64, (3, 3), activation = 'relu'))\n",
        "tuned_model.add(MaxPooling2D(pool_size=(2, 2)))\n",
        "tuned_model.add(Conv2D(64, (3, 3), activation = 'relu'))\n",
        "tuned_model.add(MaxPooling2D(pool_size=(2, 2)))\n",
        "\n",
        "tuned_model.add(Flatten()) \n",
        "tuned_model.add(Dense(64)) \n",
        "tuned_model.add(Dense(1,activation='sigmoid'))\n",
        "\n",
        "# need to compile the model before you can use it\n",
        "opt = SGD(learning_rate=0.001, momentum=0.9)\n",
        "tuned_model.compile(optimizer=opt, loss='binary_crossentropy', metrics=['accuracy'])"
      ],
      "execution_count": null,
      "outputs": []
    },
    {
      "cell_type": "code",
      "metadata": {
        "colab": {
          "base_uri": "https://localhost:8080/"
        },
        "id": "VUAZMg3KsxFN",
        "outputId": "0bc5a704-db59-4033-cad6-676e10e787e4"
      },
      "source": [
        "# Run the tuned CNN\n",
        "# Run the baseline CNN\n",
        "training_results = base_model.fit(\n",
        "        train_data, #training set\n",
        "        steps_per_epoch = len(train_data), \n",
        "        epochs = 10, #number of epochs \n",
        "        validation_data = test_data, #testing set\n",
        "        validation_steps = len(test_data)\n",
        "        )"
      ],
      "execution_count": null,
      "outputs": [
        {
          "output_type": "stream",
          "name": "stdout",
          "text": [
            "Epoch 1/10\n",
            "163/163 [==============================] - 256s 2s/step - loss: 0.0723 - accuracy: 0.9734 - val_loss: 0.9354 - val_accuracy: 0.7484\n",
            "Epoch 2/10\n",
            "163/163 [==============================] - 223s 1s/step - loss: 0.0681 - accuracy: 0.9743 - val_loss: 1.0181 - val_accuracy: 0.7436\n",
            "Epoch 3/10\n",
            "163/163 [==============================] - 221s 1s/step - loss: 0.0715 - accuracy: 0.9724 - val_loss: 0.5879 - val_accuracy: 0.8141\n",
            "Epoch 4/10\n",
            "163/163 [==============================] - 226s 1s/step - loss: 0.0673 - accuracy: 0.9743 - val_loss: 0.8656 - val_accuracy: 0.7676\n",
            "Epoch 5/10\n",
            "163/163 [==============================] - 227s 1s/step - loss: 0.0613 - accuracy: 0.9768 - val_loss: 0.9562 - val_accuracy: 0.7516\n",
            "Epoch 6/10\n",
            "163/163 [==============================] - 224s 1s/step - loss: 0.0570 - accuracy: 0.9801 - val_loss: 1.0243 - val_accuracy: 0.7580\n",
            "Epoch 7/10\n",
            "163/163 [==============================] - 223s 1s/step - loss: 0.0553 - accuracy: 0.9804 - val_loss: 1.2318 - val_accuracy: 0.7404\n",
            "Epoch 8/10\n",
            "163/163 [==============================] - 224s 1s/step - loss: 0.0541 - accuracy: 0.9795 - val_loss: 1.1425 - val_accuracy: 0.7548\n",
            "Epoch 9/10\n",
            "163/163 [==============================] - 225s 1s/step - loss: 0.0540 - accuracy: 0.9803 - val_loss: 1.1062 - val_accuracy: 0.7612\n",
            "Epoch 10/10\n",
            "163/163 [==============================] - 225s 1s/step - loss: 0.0498 - accuracy: 0.9810 - val_loss: 1.0356 - val_accuracy: 0.7692\n"
          ]
        }
      ]
    },
    {
      "cell_type": "code",
      "metadata": {
        "colab": {
          "base_uri": "https://localhost:8080/",
          "height": 295
        },
        "id": "cIaycax15LhF",
        "outputId": "66ee3dc3-764b-4a0a-9340-d352bf1d6e1f"
      },
      "source": [
        "# Graph the results\n",
        "import matplotlib.pyplot as plt\n",
        "%matplotlib inline\n",
        "plt.plot(training_results.history['accuracy'])\n",
        "plt.plot(training_results.history['val_accuracy'])\n",
        "plt.title('model accuracy')\n",
        "plt.ylabel('accuracy')\n",
        "plt.xlabel('epoch')\n",
        "plt.legend(['train', 'test'], loc='upper left')\n",
        "plt.show()"
      ],
      "execution_count": null,
      "outputs": [
        {
          "output_type": "display_data",
          "data": {
            "image/png": "[encoded data removed]",
            "text/plain": [
              "<Figure size 432x288 with 1 Axes>"
            ]
          },
          "metadata": {
            "needs_background": "light"
          }
        }
      ]
    },
    {
      "cell_type": "markdown",
      "metadata": {
        "id": "FOdkFNouOjXI"
      },
      "source": [
        "*The configuration of my CNN that proved to be more accurate was the tuned CNN. I think this is the case because the primary tuning I did was adding more depth, ,which would make sense as to why it increases accuracy. More computations and adjusting of the filters would make them more accurate.*\n",
        "\n",
        "*I don't want to let this model run for 30 minutes each time I need to test if it gets more accurate, so I'll leave it with this accuracy and hopefully it measures up.*"
      ]
    }
  ]
}